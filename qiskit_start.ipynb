{
 "cells": [
  {
   "cell_type": "code",
   "execution_count": 1,
   "id": "armed-consideration",
   "metadata": {},
   "outputs": [],
   "source": [
    "import qiskit"
   ]
  },
  {
   "cell_type": "code",
   "execution_count": 3,
   "id": "emerging-momentum",
   "metadata": {},
   "outputs": [],
   "source": [
    "import numpy as np\n",
    "from qiskit import(\n",
    "  QuantumCircuit,\n",
    "  execute,\n",
    "  Aer)\n",
    "from qiskit.visualization import plot_histogram"
   ]
  },
  {
   "cell_type": "code",
   "execution_count": 25,
   "id": "parental-agency",
   "metadata": {},
   "outputs": [],
   "source": [
    "import numpy as np\n",
    "np.random.seed(99999)\n",
    "\n",
    "params = np.random.rand(3)"
   ]
  },
  {
   "cell_type": "code",
   "execution_count": 33,
   "id": "ranging-southwest",
   "metadata": {},
   "outputs": [
    {
     "name": "stdout",
     "output_type": "stream",
     "text": [
      "\n",
      "Total count for 00 and 11 are: {'00': 404, '01': 6, '10': 586, '11': 4}\n"
     ]
    },
    {
     "data": {
      "text/html": [
       "<pre style=\"word-wrap: normal;white-space: pre;background: #fff0;line-height: 1.1;font-family: &quot;Courier New&quot;,Courier,monospace\">     ┌─────────────────────────────┐                               ┌─┐   \n",
       "q_0: ┤ U3(0.20707,0.98817,0.82692) ├───────────────────────────────┤M├───\n",
       "     └────────────┬───┬────────────┘┌─────────────────────────────┐└╥┘┌─┐\n",
       "q_1: ─────────────┤ H ├─────────────┤ U3(0.20707,0.98817,0.82692) ├─╫─┤M├\n",
       "                  └───┘             └─────────────────────────────┘ ║ └╥┘\n",
       "c: 2/═══════════════════════════════════════════════════════════════╩══╩═\n",
       "                                                                    0  1 </pre>"
      ],
      "text/plain": [
       "     ┌─────────────────────────────┐                               ┌─┐   \n",
       "q_0: ┤ U3(0.20707,0.98817,0.82692) ├───────────────────────────────┤M├───\n",
       "     └────────────┬───┬────────────┘┌─────────────────────────────┐└╥┘┌─┐\n",
       "q_1: ─────────────┤ H ├─────────────┤ U3(0.20707,0.98817,0.82692) ├─╫─┤M├\n",
       "                  └───┘             └─────────────────────────────┘ ║ └╥┘\n",
       "c: 2/═══════════════════════════════════════════════════════════════╩══╩═\n",
       "                                                                    0  1 "
      ]
     },
     "execution_count": 33,
     "metadata": {},
     "output_type": "execute_result"
    }
   ],
   "source": [
    "# Use Aer's qasm_simulator\n",
    "simulator = Aer.get_backend('qasm_simulator')\n",
    "\n",
    "# Create a Quantum Circuit acting on the q register\n",
    "circuit = QuantumCircuit(2, 2)\n",
    "\n",
    "# Add a H gate on qubit 0\n",
    "circuit.h(1)\n",
    "\n",
    "# # Add a CX (CNOT) gate on control qubit 0 and target qubit 1\n",
    "# circuit.cx(0, 1)\n",
    "circuit.u3(params[0],params[1],params[2],0)\n",
    "circuit.u3(params[0],params[1],params[2],1)\n",
    "\n",
    "# Map the quantum measurement to the classical bits\n",
    "circuit.measure([0,1], [0,1])\n",
    "\n",
    "# Execute the circuit on the qasm simulator\n",
    "job = execute(circuit, simulator, shots=1000)\n",
    "\n",
    "# Grab results from the job\n",
    "result = job.result()\n",
    "\n",
    "# Returns counts\n",
    "counts = result.get_counts(circuit)\n",
    "print(\"\\nTotal count for 00 and 11 are:\",counts)\n",
    "\n",
    "# Draw the circuit\n",
    "circuit.draw()"
   ]
  },
  {
   "cell_type": "code",
   "execution_count": 34,
   "id": "smart-refrigerator",
   "metadata": {},
   "outputs": [
    {
     "data": {
      "image/png": "[encoded data removed]",
      "text/plain": [
       "<Figure size 504x360 with 1 Axes>"
      ]
     },
     "execution_count": 34,
     "metadata": {},
     "output_type": "execute_result"
    }
   ],
   "source": [
    "plot_histogram(counts)"
   ]
  },
  {
   "cell_type": "code",
   "execution_count": 35,
   "id": "olive-astrology",
   "metadata": {},
   "outputs": [
    {
     "data": {
      "text/plain": [
       "404"
      ]
     },
     "execution_count": 35,
     "metadata": {},
     "output_type": "execute_result"
    }
   ],
   "source": [
    "counts['00']"
   ]
  },
  {
   "cell_type": "code",
   "execution_count": 32,
   "id": "demonstrated-journalist",
   "metadata": {},
   "outputs": [
    {
     "data": {
      "text/plain": [
       "{'00': 456, '01': 1, '10': 540, '11': 3}"
      ]
     },
     "execution_count": 32,
     "metadata": {},
     "output_type": "execute_result"
    }
   ],
   "source": [
    "counts"
   ]
  },
  {
   "cell_type": "code",
   "execution_count": null,
   "id": "hydraulic-tiger",
   "metadata": {},
   "outputs": [],
   "source": []
  }
 ],
 "metadata": {
  "kernelspec": {
   "display_name": "qiskit",
   "language": "python",
   "name": "qiskit"
  },
  "language_info": {
   "codemirror_mode": {
    "name": "ipython",
    "version": 3
   },
   "file_extension": ".py",
   "mimetype": "text/x-python",
   "name": "python",
   "nbconvert_exporter": "python",
   "pygments_lexer": "ipython3",
   "version": "3.9.1"
  }
 },
 "nbformat": 4,
 "nbformat_minor": 5
}
